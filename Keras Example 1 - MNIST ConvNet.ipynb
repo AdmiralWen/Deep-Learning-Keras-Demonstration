{
 "cells": [
  {
   "cell_type": "markdown",
   "metadata": {},
   "source": [
    "# MNIST Handwriting Recognition Example"
   ]
  },
  {
   "cell_type": "code",
   "execution_count": 1,
   "metadata": {},
   "outputs": [],
   "source": [
    "import os, sys\n",
    "from matplotlib import pyplot as plt"
   ]
  },
  {
   "cell_type": "code",
   "execution_count": 2,
   "metadata": {},
   "outputs": [
    {
     "name": "stderr",
     "output_type": "stream",
     "text": [
      "C:\\ProgramData\\Anaconda3\\lib\\site-packages\\h5py\\__init__.py:34: FutureWarning: Conversion of the second argument of issubdtype from `float` to `np.floating` is deprecated. In future, it will be treated as `np.float64 == np.dtype(float).type`.\n",
      "  from ._conv import register_converters as _register_converters\n",
      "Using TensorFlow backend.\n"
     ]
    }
   ],
   "source": [
    "import numpy as np\n",
    "from keras.models import Sequential\n",
    "from keras.layers import Dense, Dropout, Activation, Flatten, BatchNormalization\n",
    "from keras.layers.convolutional import Convolution2D, MaxPooling2D\n",
    "from keras.utils import np_utils"
   ]
  },
  {
   "cell_type": "markdown",
   "metadata": {},
   "source": [
    "### Read in MNIST dataset"
   ]
  },
  {
   "cell_type": "code",
   "execution_count": 3,
   "metadata": {},
   "outputs": [],
   "source": [
    "from keras.datasets import mnist"
   ]
  },
  {
   "cell_type": "code",
   "execution_count": 4,
   "metadata": {},
   "outputs": [
    {
     "name": "stdout",
     "output_type": "stream",
     "text": [
      "(60000, 28, 28)\n",
      "(60000,)\n",
      "(10000, 28, 28)\n",
      "(10000,)\n"
     ]
    }
   ],
   "source": [
    "(X_train_orig, Y_train_orig), (X_test_orig, Y_test_orig) = mnist.load_data()\n",
    "X_train, Y_train, X_test, Y_test = X_train_orig.copy(), Y_train_orig.copy(), X_test_orig.copy(), Y_test_orig.copy()\n",
    "Y_test_labels = Y_test\n",
    "\n",
    "print(X_train.shape); print(Y_train.shape);\n",
    "print(X_test.shape); print(Y_test.shape);"
   ]
  },
  {
   "cell_type": "code",
   "execution_count": 5,
   "metadata": {},
   "outputs": [
    {
     "data": {
      "image/png": "[encoded data removed]",
      "text/plain": [
       "<matplotlib.figure.Figure at 0x1345c7fd5c0>"
      ]
     },
     "metadata": {},
     "output_type": "display_data"
    }
   ],
   "source": [
    "f = plt.figure(figsize=(6, 6))\n",
    "for i in range(9):\n",
    "    ax = f.add_subplot(3, 3, i+1)\n",
    "    ax.imshow(X_train_orig[i], cmap='gray', interpolation='none')\n",
    "    plt.title(\"Label: {}\".format(Y_train_orig[i]))\n",
    "plt.subplots_adjust(hspace = 0.5)\n",
    "plt.show()"
   ]
  },
  {
   "cell_type": "markdown",
   "metadata": {},
   "source": [
    "### Preprocessing"
   ]
  },
  {
   "cell_type": "code",
   "execution_count": 6,
   "metadata": {},
   "outputs": [],
   "source": [
    "# Pre-process input data so that we can define it to have depth of 1 (since all images are in black/white):\n",
    "X_train = X_train.reshape(X_train.shape[0], 28, 28, 1).astype('float32')\n",
    "X_test = X_test.reshape(X_test.shape[0], 28, 28, 1).astype('float32')\n",
    "\n",
    "# For the MNIST dataset, The pixel values are grayscale, defined as a number between 0 and 255. It is almost always a good idea to\n",
    "# perform some scaling of the inputs when using neural networks. This is easily done here by dividing the X matrices by 255:\n",
    "X_train /= 255\n",
    "X_test /= 255"
   ]
  },
  {
   "cell_type": "code",
   "execution_count": 7,
   "metadata": {},
   "outputs": [
    {
     "name": "stdout",
     "output_type": "stream",
     "text": [
      "(60000, 10)\n",
      "(10000, 10)\n"
     ]
    }
   ],
   "source": [
    "# Reshape response variables from a single vector to dummy-coded matrix with 10 categories:\n",
    "Y_train = np_utils.to_categorical(Y_train, 10)\n",
    "Y_test = np_utils.to_categorical(Y_test, 10)\n",
    "print(Y_train.shape); print(Y_test.shape);"
   ]
  },
  {
   "cell_type": "markdown",
   "metadata": {},
   "source": [
    "### Build basic CNN model"
   ]
  },
  {
   "cell_type": "code",
   "execution_count": 8,
   "metadata": {},
   "outputs": [],
   "source": [
    "# Start:\n",
    "model = Sequential()\n",
    "\n",
    "# First convolution layer (notice we define input shape as 28x28x1):\n",
    "model.add(Convolution2D(filters=32, kernel_size=(5, 5), padding='valid', input_shape=(28, 28, 1), activation='relu'))\n",
    "model.add(MaxPooling2D(pool_size=(2, 2)))\n",
    "model.add(Dropout(0.2))\n",
    "\n",
    "# Second convolution layer:\n",
    "model.add(Convolution2D(filters=16, kernel_size=(3, 3), activation='relu'))\n",
    "model.add(MaxPooling2D(pool_size=(2, 2)))\n",
    "model.add(Dropout(0.2))\n",
    "\n",
    "# Add 2 fully connected layers:\n",
    "model.add(Flatten())\n",
    "model.add(Dense(64, activation='relu'))\n",
    "model.add(Dense(32, activation='relu'))\n",
    "\n",
    "# Output layer (softmax activation):\n",
    "model.add(Dense(10, activation='softmax'))"
   ]
  },
  {
   "cell_type": "code",
   "execution_count": 9,
   "metadata": {},
   "outputs": [
    {
     "name": "stdout",
     "output_type": "stream",
     "text": [
      "_________________________________________________________________\n",
      "Layer (type)                 Output Shape              Param #   \n",
      "=================================================================\n",
      "conv2d_1 (Conv2D)            (None, 24, 24, 32)        832       \n",
      "_________________________________________________________________\n",
      "max_pooling2d_1 (MaxPooling2 (None, 12, 12, 32)        0         \n",
      "_________________________________________________________________\n",
      "dropout_1 (Dropout)          (None, 12, 12, 32)        0         \n",
      "_________________________________________________________________\n",
      "conv2d_2 (Conv2D)            (None, 10, 10, 16)        4624      \n",
      "_________________________________________________________________\n",
      "max_pooling2d_2 (MaxPooling2 (None, 5, 5, 16)          0         \n",
      "_________________________________________________________________\n",
      "dropout_2 (Dropout)          (None, 5, 5, 16)          0         \n",
      "_________________________________________________________________\n",
      "flatten_1 (Flatten)          (None, 400)               0         \n",
      "_________________________________________________________________\n",
      "dense_1 (Dense)              (None, 64)                25664     \n",
      "_________________________________________________________________\n",
      "dense_2 (Dense)              (None, 32)                2080      \n",
      "_________________________________________________________________\n",
      "dense_3 (Dense)              (None, 10)                330       \n",
      "=================================================================\n",
      "Total params: 33,530\n",
      "Trainable params: 33,530\n",
      "Non-trainable params: 0\n",
      "_________________________________________________________________\n"
     ]
    }
   ],
   "source": [
    "# Summary of the model architecture:\n",
    "model.summary()"
   ]
  },
  {
   "cell_type": "markdown",
   "metadata": {},
   "source": [
    "### Compile and train"
   ]
  },
  {
   "cell_type": "code",
   "execution_count": 10,
   "metadata": {},
   "outputs": [
    {
     "name": "stdout",
     "output_type": "stream",
     "text": [
      "Train on 48000 samples, validate on 12000 samples\n",
      "Epoch 1/12\n",
      "48000/48000 [==============================] - 18s 365us/step - loss: 0.4401 - acc: 0.8590 - val_loss: 0.1040 - val_acc: 0.9675\n",
      "Epoch 2/12\n",
      "48000/48000 [==============================] - 2s 35us/step - loss: 0.1108 - acc: 0.9661 - val_loss: 0.0655 - val_acc: 0.9806\n",
      "Epoch 3/12\n",
      "48000/48000 [==============================] - 2s 39us/step - loss: 0.0831 - acc: 0.9739 - val_loss: 0.0557 - val_acc: 0.9824\n",
      "Epoch 4/12\n",
      "48000/48000 [==============================] - 2s 34us/step - loss: 0.0664 - acc: 0.9794 - val_loss: 0.0475 - val_acc: 0.9867\n",
      "Epoch 5/12\n",
      "48000/48000 [==============================] - 2s 35us/step - loss: 0.0595 - acc: 0.9806 - val_loss: 0.0442 - val_acc: 0.9872\n",
      "Epoch 6/12\n",
      "48000/48000 [==============================] - 2s 34us/step - loss: 0.0531 - acc: 0.9826 - val_loss: 0.0397 - val_acc: 0.9884\n",
      "Epoch 7/12\n",
      "48000/48000 [==============================] - 2s 34us/step - loss: 0.0480 - acc: 0.9842 - val_loss: 0.0393 - val_acc: 0.9887\n",
      "Epoch 8/12\n",
      "48000/48000 [==============================] - 2s 34us/step - loss: 0.0461 - acc: 0.9853 - val_loss: 0.0353 - val_acc: 0.9892\n",
      "Epoch 9/12\n",
      "48000/48000 [==============================] - 2s 34us/step - loss: 0.0391 - acc: 0.9874 - val_loss: 0.0403 - val_acc: 0.9891\n",
      "Epoch 10/12\n",
      "48000/48000 [==============================] - 2s 34us/step - loss: 0.0380 - acc: 0.9876 - val_loss: 0.0331 - val_acc: 0.9906\n",
      "Epoch 11/12\n",
      "48000/48000 [==============================] - 2s 35us/step - loss: 0.0353 - acc: 0.9885 - val_loss: 0.0332 - val_acc: 0.9905\n",
      "Epoch 12/12\n",
      "48000/48000 [==============================] - 2s 34us/step - loss: 0.0328 - acc: 0.9891 - val_loss: 0.0320 - val_acc: 0.9906\n"
     ]
    },
    {
     "data": {
      "text/plain": [
       "<keras.callbacks.History at 0x1346528b5c0>"
      ]
     },
     "execution_count": 10,
     "metadata": {},
     "output_type": "execute_result"
    }
   ],
   "source": [
    "# Define the loss function, optimizer, batch size, and number of epochs:\n",
    "model.compile(loss='categorical_crossentropy', optimizer='adam', metrics=['accuracy'])\n",
    "model.fit(X_train, Y_train, batch_size=128, epochs=12, validation_split=0.2, verbose=1)"
   ]
  },
  {
   "cell_type": "markdown",
   "metadata": {},
   "source": [
    "### Evaluation on test data"
   ]
  },
  {
   "cell_type": "code",
   "execution_count": 11,
   "metadata": {},
   "outputs": [],
   "source": [
    "# Test data predictions:\n",
    "test_probabilities = model.predict(X_test)\n",
    "test_predictions = [np.where(test_probabilities[i] == max(test_probabilities[i]))[0][0] for i in range(len(test_probabilities))]"
   ]
  },
  {
   "cell_type": "code",
   "execution_count": 12,
   "metadata": {},
   "outputs": [
    {
     "name": "stdout",
     "output_type": "stream",
     "text": [
      "Test accuracy: 0.9917\n"
     ]
    }
   ],
   "source": [
    "# Accuracy evaluation:\n",
    "test_evaluation = model.evaluate(X_test, Y_test, verbose=2)\n",
    "print('Test accuracy:', test_evaluation[1])"
   ]
  },
  {
   "cell_type": "markdown",
   "metadata": {},
   "source": [
    "### View some of the predictions"
   ]
  },
  {
   "cell_type": "code",
   "execution_count": 13,
   "metadata": {},
   "outputs": [],
   "source": [
    "import random"
   ]
  },
  {
   "cell_type": "code",
   "execution_count": 15,
   "metadata": {},
   "outputs": [
    {
     "data": {
      "image/png": "[encoded data removed]",
      "text/plain": [
       "<matplotlib.figure.Figure at 0x1b531184358>"
      ]
     },
     "metadata": {},
     "output_type": "display_data"
    }
   ],
   "source": [
    "# Sample of predictions:\n",
    "smpl = [random.randint(0, len(test_predictions)) for i in range(10)]\n",
    "\n",
    "f = plt.figure(figsize=(6, 6))\n",
    "for i in range(9):\n",
    "    n = smpl[i]\n",
    "    ax = f.add_subplot(3, 3, i+1)\n",
    "    ax.imshow(X_test_orig[n], cmap='gray', interpolation='none')\n",
    "    plt.title(\"Pred: {}\".format(test_predictions[n]))\n",
    "plt.subplots_adjust(hspace = 0.5)\n",
    "plt.show()"
   ]
  },
  {
   "cell_type": "code",
   "execution_count": 16,
   "metadata": {},
   "outputs": [],
   "source": [
    "# View some of the incorrect predictions:\n",
    "incorrects = [i for i in range(len(test_predictions)) if test_predictions[i] != Y_test_orig[i]]"
   ]
  },
  {
   "cell_type": "code",
   "execution_count": 18,
   "metadata": {},
   "outputs": [
    {
     "data": {
      "image/png": "[encoded data removed]",
      "text/plain": [
       "<matplotlib.figure.Figure at 0x1b57afa4ef0>"
      ]
     },
     "metadata": {},
     "output_type": "display_data"
    }
   ],
   "source": [
    "incorrect_smpl = [incorrects[i] for i in sorted(random.sample(range(len(incorrects)), 9))]\n",
    "\n",
    "f = plt.figure(figsize=(6, 6))\n",
    "for i in range(9):\n",
    "    n = incorrect_smpl[i]\n",
    "    ax = f.add_subplot(3, 3, i+1)\n",
    "    ax.imshow(X_test_orig[n], cmap='gray', interpolation='none')\n",
    "    plt.title(\"Pred: {}; True: {}\".format(test_predictions[n], Y_test_orig[n]))\n",
    "plt.subplots_adjust(hspace = 0.5)\n",
    "plt.show()"
   ]
  }
 ],
 "metadata": {
  "kernelspec": {
   "display_name": "Python 3",
   "language": "python",
   "name": "python3"
  },
  "language_info": {
   "codemirror_mode": {
    "name": "ipython",
    "version": 3
   },
   "file_extension": ".py",
   "mimetype": "text/x-python",
   "name": "python",
   "nbconvert_exporter": "python",
   "pygments_lexer": "ipython3",
   "version": "3.6.3"
  }
 },
 "nbformat": 4,
 "nbformat_minor": 2
}
